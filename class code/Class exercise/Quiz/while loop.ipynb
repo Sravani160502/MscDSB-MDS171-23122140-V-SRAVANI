{
 "cells": [
  {
   "cell_type": "code",
   "execution_count": 3,
   "metadata": {},
   "outputs": [
    {
     "name": "stdout",
     "output_type": "stream",
     "text": [
      "numbers from 1 to 10:\n",
      "12345678910"
     ]
    }
   ],
   "source": [
    "print('numbers from 1 to 10:')\n",
    "n=1\n",
    "while n <= 10:\n",
    "    print(n, end='')\n",
    "    n= n+1"
   ]
  }
 ],
 "metadata": {
  "kernelspec": {
   "display_name": "Python 3",
   "language": "python",
   "name": "python3"
  },
  "language_info": {
   "codemirror_mode": {
    "name": "ipython",
    "version": 3
   },
   "file_extension": ".py",
   "mimetype": "text/x-python",
   "name": "python",
   "nbconvert_exporter": "python",
   "pygments_lexer": "ipython3",
   "version": "3.7.0"
  },
  "orig_nbformat": 4
 },
 "nbformat": 4,
 "nbformat_minor": 2
}
