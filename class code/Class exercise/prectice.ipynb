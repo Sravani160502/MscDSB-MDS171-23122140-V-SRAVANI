{
 "cells": [
  {
   "cell_type": "code",
   "execution_count": 1,
   "metadata": {},
   "outputs": [
    {
     "name": "stdout",
     "output_type": "stream",
     "text": [
      "10\n",
      "15\n",
      "25\n"
     ]
    }
   ],
   "source": [
    "a=10; b=15; c=a+b\n",
    "print(a); print(b); print(c)"
   ]
  },
  {
   "cell_type": "code",
   "execution_count": 10,
   "metadata": {},
   "outputs": [
    {
     "name": "stdout",
     "output_type": "stream",
     "text": [
      "10\n",
      "15\n",
      "25\n"
     ]
    }
   ],
   "source": [
    "a=10;  b=15;  c=a+b\n",
    "print(a); print(b);  print(c)"
   ]
  },
  {
   "cell_type": "code",
   "execution_count": 17,
   "metadata": {},
   "outputs": [
    {
     "name": "stdout",
     "output_type": "stream",
     "text": [
      "17\n"
     ]
    }
   ],
   "source": [
    "x = \\\n",
    "1+2\\\n",
    "+2+3\\\n",
    "+4+5\n",
    "print(x)"
   ]
  },
  {
   "cell_type": "code",
   "execution_count": 14,
   "metadata": {},
   "outputs": [
    {
     "name": "stdout",
     "output_type": "stream",
     "text": [
      "[2, 3, 4]\n"
     ]
    }
   ],
   "source": [
    "x = [\n",
    "    2,\n",
    "    3,\n",
    "    4\n",
    "]\n",
    "print(x)"
   ]
  },
  {
   "cell_type": "code",
   "execution_count": 2,
   "metadata": {},
   "outputs": [
    {
     "name": "stdout",
     "output_type": "stream",
     "text": [
      "[1, 2, 5, 'sat', 'sai', 'shravs']\n"
     ]
    }
   ],
   "source": [
    "list = [1,2,5, 'sat' , 'sai', 'shravs']\n",
    "print(list)"
   ]
  },
  {
   "cell_type": "code",
   "execution_count": 3,
   "metadata": {},
   "outputs": [
    {
     "name": "stdout",
     "output_type": "stream",
     "text": [
      "6\n"
     ]
    }
   ],
   "source": [
    "print(len(list))"
   ]
  },
  {
   "cell_type": "code",
   "execution_count": 6,
   "metadata": {},
   "outputs": [
    {
     "name": "stdout",
     "output_type": "stream",
     "text": [
      "1\n"
     ]
    }
   ],
   "source": [
    "print(list[0])"
   ]
  },
  {
   "cell_type": "code",
   "execution_count": 9,
   "metadata": {},
   "outputs": [
    {
     "name": "stdout",
     "output_type": "stream",
     "text": [
      "2\n"
     ]
    }
   ],
   "source": [
    "print(list[1])"
   ]
  },
  {
   "cell_type": "code",
   "execution_count": 10,
   "metadata": {},
   "outputs": [
    {
     "name": "stdout",
     "output_type": "stream",
     "text": [
      "Yes\n"
     ]
    }
   ],
   "source": [
    "if 'sat' in list:\n",
    "    print(\"Yes\")\n",
    "else:\n",
    "    print(\"no\")"
   ]
  },
  {
   "cell_type": "code",
   "execution_count": 11,
   "metadata": {},
   "outputs": [
    {
     "name": "stdout",
     "output_type": "stream",
     "text": [
      "Yes\n"
     ]
    }
   ],
   "source": [
    "if 1 in list:\n",
    "    print(\"Yes\")\n",
    "else:\n",
    "    print(\"no\")"
   ]
  },
  {
   "cell_type": "code",
   "execution_count": 14,
   "metadata": {},
   "outputs": [
    {
     "name": "stdout",
     "output_type": "stream",
     "text": [
      "[2, 'sat']\n",
      "[2]\n",
      "[2, 5, 'sat']\n"
     ]
    }
   ],
   "source": [
    "print(list[1:4:2])\n",
    "print(list[1:4:3])\n",
    "print(list[1:4])"
   ]
  },
  {
   "cell_type": "code",
   "execution_count": 25,
   "metadata": {},
   "outputs": [
    {
     "name": "stdout",
     "output_type": "stream",
     "text": [
      "[0, 1, 4, 9, 16, 25, 36, 49, 64, 81]\n"
     ]
    }
   ],
   "source": [
    "form = [i*i for i in range(10)]\n",
    "print(form)\n"
   ]
  },
  {
   "cell_type": "code",
   "execution_count": 51,
   "metadata": {},
   "outputs": [
    {
     "name": "stdout",
     "output_type": "stream",
     "text": [
      "[2, 4, 5, 4, 57, 5, 40, 7]\n",
      "[2, 4, 4, 5, 5, 7, 40, 57]\n",
      "None\n",
      "[2, 4, 4, 5, 5, 7, 40, 57]\n",
      "3\n",
      "2\n",
      "[2, 17, 4, 5, 5, 7, 40, 57]\n",
      "[2, 4, 457, 4, 5, 5, 7, 40, 57]\n",
      "[2, 4, 457, 4, 5, 5, 7, 40, 57, 'sravai', 'sai']\n",
      "[2, 4, 457, 4, 5, 5, 7, 40, 57, 'sravai', 'sai', 'sravai', 'sai']\n"
     ]
    }
   ],
   "source": [
    "numbers = [2,4,5,4,57,5,40]\n",
    "numbers.append(7)\n",
    "print(numbers)\n",
    "\n",
    "numbers.sort()\n",
    "print(numbers)\n",
    "\n",
    "print(numbers.sort(reverse=True))\n",
    "numbers.reverse()\n",
    "print(numbers)\n",
    "\n",
    "\n",
    "print(numbers.index(5))\n",
    "print(numbers.count(5))\n",
    "\n",
    "m = numbers.copy()\n",
    "m[1] =  17\n",
    "\n",
    "print(m)\n",
    "numbers.insert(2,457)\n",
    "print(numbers)\n",
    "new = [\"sravai\",\"sai\"]\n",
    "numbers.extend(new)\n",
    "print(numbers)\n",
    "l=numbers+new\n",
    "print(l)"
   ]
  },
  {
   "cell_type": "code",
   "execution_count": 1,
   "metadata": {},
   "outputs": [
    {
     "name": "stdout",
     "output_type": "stream",
     "text": [
      "MSC DS B\n",
      "['A', 'B', 'C']\n",
      "A\n",
      "B\n",
      "C\n"
     ]
    }
   ],
   "source": [
    "class MSCDSB:\n",
    "\n",
    "    def __init__(self): # Member function\n",
    "        # Data members / Properties / Attribute\n",
    "        self.name = \"MSC DS B\"\n",
    "        self.students = [\"A\",\"B\",\"C\"]\n",
    "    \n",
    "    def printstudents(self):\n",
    "        for student in self.students:\n",
    "            print(student)\n",
    "\n",
    "\n",
    "\n",
    "obj = MSCDSB()\n",
    "print(obj.name)\n",
    "print(obj.students)\n",
    "obj.printstudents()"
   ]
  },
  {
   "cell_type": "markdown",
   "metadata": {},
   "source": [
    "#define a class expense tracker that stores the \n",
    "#expenses and income in a dictionary\n",
    "#implement the method to\n",
    "# -store the transaction:\n",
    "#-view transaction;\n",
    "# -calculate the total expense/income"
   ]
  },
  {
   "cell_type": "code",
   "execution_count": 8,
   "metadata": {},
   "outputs": [],
   "source": [
    "class expensetracker:\n",
    "    def __init__(self):\n",
    "        self.dict = { \"income\" : {}, \"expense\": {}}\n",
    "    def store_trans(self,transid,name,amt):\n",
    "        trans = {\"tansid\": transid, \"tname\": name, \"amt\": amt}\n",
    "        if type == \"income\":\n",
    "            print(self.dict[\"income\"][\"1\"](trans))\n",
    "        else:\n",
    "            print(self.dict[\"expense\"].append(trans))\n",
    "    def view_transaction(self):\n",
    "        print(\"income\")\n",
    "        for item in self.dict[\"income\"]:\n",
    "            print(item)\n",
    "        print(\"expense\")\n",
    "        for item in self.dict[\"expense\"]:\n",
    "            print(item)\n",
    "    def calculate_total(self):\n",
    "        total_expense = 0\n",
    "        for item in self.dict[\"expense\"]:\n",
    "            total_expense = item[\"amt\"] + total_expense\n",
    "            # total_expense += item[\"amount\"]\n",
    "            print(total_expense)\n",
    "        total_income = 0 \n",
    "        for item in self.dict[\"income\"]:\n",
    "            total_income = item[\"amt\"] + total_expense\n",
    "            print(total_income)\n",
    "    \n",
    "    def collectinput():\n",
    "        transid = int(input(\"enter the id:\"))\n",
    "        name = input(\"enter the name\")\n",
    "        amt = int(input(\"enter the amt:\"))\n",
    "        return transid,name,amt\n",
    "    \n",
    "    \n",
    "    myexpense =  expensetracker()\n",
    "\n",
    "\n",
    "        "
   ]
  },
  {
   "cell_type": "code",
   "execution_count": null,
   "metadata": {},
   "outputs": [],
   "source": [
    "\n"
   ]
  }
 ],
 "metadata": {
  "kernelspec": {
   "display_name": "Python 3",
   "language": "python",
   "name": "python3"
  },
  "language_info": {
   "codemirror_mode": {
    "name": "ipython",
    "version": 3
   },
   "file_extension": ".py",
   "mimetype": "text/x-python",
   "name": "python",
   "nbconvert_exporter": "python",
   "pygments_lexer": "ipython3",
   "version": "3.7.0"
  }
 },
 "nbformat": 4,
 "nbformat_minor": 2
}
