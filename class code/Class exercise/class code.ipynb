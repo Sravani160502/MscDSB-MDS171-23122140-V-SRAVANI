{
 "cells": [
  {
   "cell_type": "code",
   "execution_count": 1,
   "metadata": {},
   "outputs": [
    {
     "name": "stdout",
     "output_type": "stream",
     "text": [
      "friday\n"
     ]
    }
   ],
   "source": [
    "n = int(input(\"enter a number\"))\n",
    "if (n==1):\n",
    "    print(\"monday\")\n",
    "elif (n==2):\n",
    "    print(\"tuesday\")\n",
    "elif (n==3):\n",
    "    print(\"wednesday\")\n",
    "elif (n==4):\n",
    "    print(\"thrusday\")\n",
    "elif (n==5):\n",
    "    print(\"friday\")\n",
    "elif (n==6):\n",
    "    print(\"saturday\")\n",
    "elif (n==7):\n",
    "    print(\"sunday\")\n",
    "else:\n",
    "    print(\"invalid input\")\n"
   ]
  },
  {
   "cell_type": "markdown",
   "metadata": {},
   "source": [
    "STRINGS \n",
    "collection of characters"
   ]
  },
  {
   "cell_type": "code",
   "execution_count": 2,
   "metadata": {},
   "outputs": [],
   "source": [
    "msg = \"this is a message\""
   ]
  },
  {
   "cell_type": "code",
   "execution_count": 3,
   "metadata": {},
   "outputs": [
    {
     "data": {
      "text/plain": [
       "str"
      ]
     },
     "execution_count": 3,
     "metadata": {},
     "output_type": "execute_result"
    }
   ],
   "source": [
    "type(msg) # this is a comment use hash"
   ]
  },
  {
   "cell_type": "code",
   "execution_count": 4,
   "metadata": {},
   "outputs": [
    {
     "data": {
      "text/plain": [
       "'h'"
      ]
     },
     "execution_count": 4,
     "metadata": {},
     "output_type": "execute_result"
    }
   ],
   "source": [
    "msg[1]"
   ]
  },
  {
   "cell_type": "code",
   "execution_count": 5,
   "metadata": {},
   "outputs": [
    {
     "name": "stdout",
     "output_type": "stream",
     "text": [
      "17\n"
     ]
    },
    {
     "data": {
      "text/plain": [
       "7"
      ]
     },
     "execution_count": 5,
     "metadata": {},
     "output_type": "execute_result"
    }
   ],
   "source": [
    "print(len(msg))\n",
    "len(\"sravani\")"
   ]
  },
  {
   "cell_type": "markdown",
   "metadata": {},
   "source": [
    "for loop can be used to acces all the characters \n",
    "there are many funtions in string\n"
   ]
  },
  {
   "cell_type": "code",
   "execution_count": 6,
   "metadata": {},
   "outputs": [
    {
     "name": "stdout",
     "output_type": "stream",
     "text": [
      "t\n",
      "h\n",
      "i\n",
      "s\n",
      " \n",
      "i\n",
      "s\n",
      " \n",
      "a\n",
      " \n",
      "m\n",
      "e\n",
      "s\n",
      "s\n",
      "a\n",
      "g\n",
      "e\n"
     ]
    }
   ],
   "source": [
    "for i in msg:\n",
    "    print(i)"
   ]
  },
  {
   "cell_type": "code",
   "execution_count": 7,
   "metadata": {},
   "outputs": [
    {
     "data": {
      "text/plain": [
       "'THIS IS A MESSAGE'"
      ]
     },
     "execution_count": 7,
     "metadata": {},
     "output_type": "execute_result"
    }
   ],
   "source": [
    "msg.upper()"
   ]
  },
  {
   "cell_type": "code",
   "execution_count": 8,
   "metadata": {},
   "outputs": [
    {
     "name": "stdout",
     "output_type": "stream",
     "text": [
      "THIS IS A MESSAGE\n",
      "this is a message\n",
      "THIS IS A MESSAGE\n"
     ]
    }
   ],
   "source": [
    "print(msg.upper())\n",
    "print(msg.lower())\n",
    "print(msg.swapcase())"
   ]
  },
  {
   "cell_type": "code",
   "execution_count": 9,
   "metadata": {},
   "outputs": [
    {
     "name": "stdout",
     "output_type": "stream",
     "text": [
      "<class 'str'>\n"
     ]
    }
   ],
   "source": [
    "name = \"     srav     \"\n",
    "print(type(name))"
   ]
  },
  {
   "cell_type": "code",
   "execution_count": 10,
   "metadata": {},
   "outputs": [
    {
     "name": "stdout",
     "output_type": "stream",
     "text": [
      "14\n",
      "4\n"
     ]
    }
   ],
   "source": [
    "print(len(name))\n",
    "print(len(name.strip()))"
   ]
  },
  {
   "cell_type": "code",
   "execution_count": 11,
   "metadata": {},
   "outputs": [
    {
     "name": "stdout",
     "output_type": "stream",
     "text": [
      "    abc    \n",
      "hghhh\tghjj\n"
     ]
    }
   ],
   "source": [
    "name = \"    abc    \\nhghhh\\tghjj\"\n",
    "print(name)"
   ]
  },
  {
   "cell_type": "code",
   "execution_count": 12,
   "metadata": {},
   "outputs": [
    {
     "name": "stdout",
     "output_type": "stream",
     "text": [
      "['2', '3', '5', '7', '5', '7']\n"
     ]
    }
   ],
   "source": [
    "numbers = \"2,3,5,7,5,7\"\n",
    "print(numbers.split(','))"
   ]
  },
  {
   "cell_type": "code",
   "execution_count": 13,
   "metadata": {},
   "outputs": [
    {
     "name": "stdout",
     "output_type": "stream",
     "text": [
      "2\n",
      "3\n",
      "55\n",
      "7\n",
      "2\n",
      "8\n"
     ]
    }
   ],
   "source": [
    "numbers = \"2,3,55,7,2,8\"\n",
    "nos = numbers.split(',')\n",
    "for item in nos:\n",
    "    print(item)"
   ]
  },
  {
   "cell_type": "code",
   "execution_count": 14,
   "metadata": {},
   "outputs": [
    {
     "name": "stdout",
     "output_type": "stream",
     "text": [
      "['2', '3', '55', '7', '2', '8']\n",
      "2 <class 'str'> 2 <class 'int'>\n",
      "3 <class 'str'> 3 <class 'int'>\n",
      "55 <class 'str'> 55 <class 'int'>\n",
      "7 <class 'str'> 7 <class 'int'>\n",
      "2 <class 'str'> 2 <class 'int'>\n",
      "8 <class 'str'> 8 <class 'int'>\n"
     ]
    }
   ],
   "source": [
    "numbers = \"2,3,55,7,2,8\"\n",
    "nos = numbers.split(',')\n",
    "print(nos)\n",
    "for item in nos:\n",
    "    temp = int(item)\n",
    "    print(item,type(item),temp,type(temp))"
   ]
  },
  {
   "cell_type": "code",
   "execution_count": 15,
   "metadata": {},
   "outputs": [
    {
     "name": "stdout",
     "output_type": "stream",
     "text": [
      "['2', '3', '55', '7', '2', '8']\n",
      "77\n"
     ]
    }
   ],
   "source": [
    "numbers = \"2,3,55,7,2,8\"\n",
    "nos = numbers.split(',')\n",
    "print(nos)\n",
    "sum = 0\n",
    "for item in nos:\n",
    "    temp = int(item)\n",
    "    sum = sum + temp\n",
    "print(sum)"
   ]
  },
  {
   "cell_type": "markdown",
   "metadata": {},
   "source": [
    "format()"
   ]
  },
  {
   "cell_type": "code",
   "execution_count": 16,
   "metadata": {},
   "outputs": [
    {
     "name": "stdout",
     "output_type": "stream",
     "text": [
      "Your username: 4 and password entered is: \n"
     ]
    }
   ],
   "source": [
    "name = input(\"enter username\")\n",
    "password = input(\"enter the password\")\n",
    "print(\"Your username: {} and password entered is: {}\".format(name,password))\n"
   ]
  },
  {
   "cell_type": "code",
   "execution_count": 17,
   "metadata": {},
   "outputs": [
    {
     "name": "stdout",
     "output_type": "stream",
     "text": [
      "10\n",
      "12\n",
      "14\n",
      "16\n",
      "18\n"
     ]
    }
   ],
   "source": [
    "for i in range(10,20,2):\n",
    "    print(i)"
   ]
  },
  {
   "cell_type": "markdown",
   "metadata": {},
   "source": [
    "step is used to give the gap"
   ]
  },
  {
   "cell_type": "code",
   "execution_count": 18,
   "metadata": {},
   "outputs": [
    {
     "ename": "ValueError",
     "evalue": "invalid literal for int() with base 10: ''",
     "output_type": "error",
     "traceback": [
      "\u001b[1;31m---------------------------------------------------------------------------\u001b[0m",
      "\u001b[1;31mValueError\u001b[0m                                Traceback (most recent call last)",
      "\u001b[1;32m~\\AppData\\Local\\Temp\\ipykernel_24028\\1588895191.py\u001b[0m in \u001b[0;36m<module>\u001b[1;34m\u001b[0m\n\u001b[0;32m      1\u001b[0m \u001b[1;31m# find the sum of n multiples of 2 where n is user input\u001b[0m\u001b[1;33m\u001b[0m\u001b[1;33m\u001b[0m\u001b[0m\n\u001b[1;32m----> 2\u001b[1;33m \u001b[0mn\u001b[0m\u001b[1;33m=\u001b[0m\u001b[0mint\u001b[0m\u001b[1;33m(\u001b[0m\u001b[0minput\u001b[0m\u001b[1;33m(\u001b[0m\u001b[1;34m\"enter the number\"\u001b[0m\u001b[1;33m)\u001b[0m\u001b[1;33m)\u001b[0m\u001b[1;33m\u001b[0m\u001b[0m\n\u001b[0m\u001b[0;32m      3\u001b[0m \u001b[1;32mfor\u001b[0m \u001b[0mi\u001b[0m \u001b[1;32min\u001b[0m \u001b[0mrange\u001b[0m\u001b[1;33m(\u001b[0m\u001b[1;36m2\u001b[0m\u001b[1;33m,\u001b[0m\u001b[0mn\u001b[0m\u001b[1;33m,\u001b[0m\u001b[1;36m2\u001b[0m\u001b[1;33m)\u001b[0m\u001b[1;33m:\u001b[0m\u001b[1;33m\u001b[0m\u001b[0m\n\u001b[0;32m      4\u001b[0m     \u001b[0mprint\u001b[0m\u001b[1;33m(\u001b[0m\u001b[0mi\u001b[0m\u001b[1;33m)\u001b[0m\u001b[1;33m\u001b[0m\u001b[0m\n\u001b[0;32m      5\u001b[0m \u001b[1;33m\u001b[0m\u001b[0m\n",
      "\u001b[1;31mValueError\u001b[0m: invalid literal for int() with base 10: ''"
     ]
    }
   ],
   "source": [
    "# find the sum of n multiples of 2 where n is user input\n",
    "n=int(input(\"enter the number\"))\n",
    "for i in range(2,n,2):\n",
    "    print(i)\n",
    "    \n",
    "    \n"
   ]
  },
  {
   "cell_type": "markdown",
   "metadata": {},
   "source": [
    "List"
   ]
  },
  {
   "cell_type": "code",
   "execution_count": null,
   "metadata": {},
   "outputs": [
    {
     "name": "stdout",
     "output_type": "stream",
     "text": [
      "['abc', 'ghh', 'jjjj', 'hhh']\n"
     ]
    }
   ],
   "source": [
    "nlist = [\"abc\",\"ghh\",\"jjjj\",\"hhh\",]\n",
    "print(nlist)"
   ]
  },
  {
   "cell_type": "markdown",
   "metadata": {},
   "source": [
    "LIST"
   ]
  },
  {
   "cell_type": "code",
   "execution_count": null,
   "metadata": {},
   "outputs": [
    {
     "name": "stdout",
     "output_type": "stream",
     "text": [
      "['one', 'two', 'three', 'four']\n",
      "one\n"
     ]
    }
   ],
   "source": [
    "Listex = [\"one\",\"two\",\"three\",\"four\"]\n",
    "print(Listex)\n",
    "print(Listex[0])"
   ]
  },
  {
   "cell_type": "code",
   "execution_count": null,
   "metadata": {},
   "outputs": [
    {
     "name": "stdout",
     "output_type": "stream",
     "text": [
      "success\n"
     ]
    }
   ],
   "source": [
    "if \"three\" in Listex:\n",
    "    print(\"success\")"
   ]
  },
  {
   "cell_type": "code",
   "execution_count": null,
   "metadata": {},
   "outputs": [],
   "source": [
    "Listex.append(\"five\")\n"
   ]
  },
  {
   "cell_type": "code",
   "execution_count": null,
   "metadata": {},
   "outputs": [
    {
     "name": "stdout",
     "output_type": "stream",
     "text": [
      "['one', 'two', 'three', 'four', 'five', 'five']\n"
     ]
    }
   ],
   "source": [
    "print(Listex)"
   ]
  },
  {
   "cell_type": "code",
   "execution_count": null,
   "metadata": {},
   "outputs": [
    {
     "data": {
      "text/plain": [
       "'five'"
      ]
     },
     "execution_count": 9,
     "metadata": {},
     "output_type": "execute_result"
    }
   ],
   "source": [
    "Listex.pop()"
   ]
  },
  {
   "cell_type": "code",
   "execution_count": null,
   "metadata": {},
   "outputs": [
    {
     "data": {
      "text/plain": [
       "['one', 'two', 'three', 'four', 'five']"
      ]
     },
     "execution_count": 11,
     "metadata": {},
     "output_type": "execute_result"
    }
   ],
   "source": [
    "Listex"
   ]
  },
  {
   "cell_type": "code",
   "execution_count": null,
   "metadata": {},
   "outputs": [
    {
     "data": {
      "text/plain": [
       "'five'"
      ]
     },
     "execution_count": 12,
     "metadata": {},
     "output_type": "execute_result"
    }
   ],
   "source": [
    "Listex.pop()"
   ]
  },
  {
   "cell_type": "code",
   "execution_count": null,
   "metadata": {},
   "outputs": [
    {
     "data": {
      "text/plain": [
       "['two', 'three', 'four']"
      ]
     },
     "execution_count": 21,
     "metadata": {},
     "output_type": "execute_result"
    }
   ],
   "source": [
    "Listex"
   ]
  },
  {
   "cell_type": "code",
   "execution_count": null,
   "metadata": {},
   "outputs": [],
   "source": [
    "Listex.remove(\"two\")"
   ]
  },
  {
   "cell_type": "markdown",
   "metadata": {},
   "source": [
    "in pop we specify the index\n",
    "in remove we specify the item\n",
    "sort , reverse"
   ]
  },
  {
   "cell_type": "code",
   "execution_count": null,
   "metadata": {},
   "outputs": [],
   "source": [
    "Listex.sort()"
   ]
  },
  {
   "cell_type": "code",
   "execution_count": null,
   "metadata": {},
   "outputs": [
    {
     "data": {
      "text/plain": [
       "['four', 'three']"
      ]
     },
     "execution_count": 24,
     "metadata": {},
     "output_type": "execute_result"
    }
   ],
   "source": [
    "Listex"
   ]
  },
  {
   "cell_type": "markdown",
   "metadata": {},
   "source": [
    "Pravi-website"
   ]
  },
  {
   "cell_type": "code",
   "execution_count": null,
   "metadata": {},
   "outputs": [],
   "source": [
    "Listex.reverse()\n"
   ]
  },
  {
   "cell_type": "code",
   "execution_count": null,
   "metadata": {},
   "outputs": [
    {
     "data": {
      "text/plain": [
       "['three', 'four']"
      ]
     },
     "execution_count": 28,
     "metadata": {},
     "output_type": "execute_result"
    }
   ],
   "source": [
    "Listex"
   ]
  },
  {
   "cell_type": "markdown",
   "metadata": {},
   "source": [
    "FUNTIONS -will be executed only when we call the funtion\n",
    "parameters, return"
   ]
  },
  {
   "cell_type": "code",
   "execution_count": null,
   "metadata": {},
   "outputs": [],
   "source": [
    "def fname():\n",
    "    print(\"I am your first function\")\n",
    "    "
   ]
  },
  {
   "cell_type": "code",
   "execution_count": null,
   "metadata": {},
   "outputs": [
    {
     "name": "stdout",
     "output_type": "stream",
     "text": [
      "I am your first function\n"
     ]
    }
   ],
   "source": [
    "fname()"
   ]
  },
  {
   "cell_type": "code",
   "execution_count": null,
   "metadata": {},
   "outputs": [],
   "source": [
    "def fname():\n",
    "    print(\"I am your first function\")\n",
    "    retVal = \"success\"\n",
    "    return retVal"
   ]
  },
  {
   "cell_type": "code",
   "execution_count": null,
   "metadata": {},
   "outputs": [
    {
     "name": "stdout",
     "output_type": "stream",
     "text": [
      "I am your first function\n",
      "success\n"
     ]
    }
   ],
   "source": [
    "status = fname()\n",
    "print(status) "
   ]
  },
  {
   "cell_type": "code",
   "execution_count": null,
   "metadata": {},
   "outputs": [],
   "source": [
    "def fname():\n",
    "    print(\"I am your first function\")\n",
    "    retVal = \"success\"\n",
    "    return retVal, True"
   ]
  },
  {
   "cell_type": "code",
   "execution_count": null,
   "metadata": {},
   "outputs": [
    {
     "name": "stdout",
     "output_type": "stream",
     "text": [
      "I am your first function\n",
      "success True\n"
     ]
    }
   ],
   "source": [
    "status, flag = fname()\n",
    "print(status, flag)"
   ]
  },
  {
   "cell_type": "code",
   "execution_count": null,
   "metadata": {},
   "outputs": [],
   "source": [
    "def fname(name):\n",
    "    print(\"I am your first function\",name)\n",
    "    retVal = \"success\"\n",
    "    return retVal, True"
   ]
  },
  {
   "cell_type": "code",
   "execution_count": null,
   "metadata": {},
   "outputs": [
    {
     "name": "stdout",
     "output_type": "stream",
     "text": [
      "I am your first function sravani\n",
      "success True\n"
     ]
    }
   ],
   "source": [
    "name = \"sravani\"  \n",
    "status, flag = fname(name)\n",
    "print(status, flag)"
   ]
  },
  {
   "cell_type": "markdown",
   "metadata": {},
   "source": [
    "Q..Define a function takes in a alist of numbers and return the sum of numbers without any predefined funtion.\n",
    "\n",
    "for item in list:\n",
    "    print(item)\n",
    "\n",
    "\n",
    "for item in range(0,len(list),1):\n",
    "    print(list[item])\n",
    "\n",
    "\n",
    "Q... ask input to the user"
   ]
  },
  {
   "cell_type": "code",
   "execution_count": null,
   "metadata": {},
   "outputs": [],
   "source": [
    "def nums(list):\n",
    "    sum = 0\n",
    "    for item in list:\n",
    "        sum= sum +item    #sum+=item\n",
    "    return sum\n"
   ]
  },
  {
   "cell_type": "code",
   "execution_count": null,
   "metadata": {},
   "outputs": [
    {
     "name": "stdout",
     "output_type": "stream",
     "text": [
      "148\n"
     ]
    }
   ],
   "source": [
    "list=([2,4,5,4,78,55])\n",
    "add=nums(list)\n",
    "print(add)"
   ]
  },
  {
   "cell_type": "code",
   "execution_count": null,
   "metadata": {},
   "outputs": [
    {
     "name": "stdout",
     "output_type": "stream",
     "text": [
      "10\n",
      "20\n",
      "40\n",
      "50\n",
      "66\n",
      "80\n"
     ]
    }
   ],
   "source": [
    "list = [10,20,40,50,66,80]\n",
    "for item in list:\n",
    "    print(item)"
   ]
  },
  {
   "cell_type": "code",
   "execution_count": null,
   "metadata": {},
   "outputs": [
    {
     "name": "stdout",
     "output_type": "stream",
     "text": [
      "10\n",
      "32\n",
      "4\n",
      "20\n",
      "40\n",
      "50\n",
      "66\n",
      "80\n"
     ]
    }
   ],
   "source": [
    "lst = [10,32,4,20,40,50,66,80]\n",
    "for item in range(0,len(lst),1):\n",
    "    print(lst[item])"
   ]
  },
  {
   "cell_type": "code",
   "execution_count": null,
   "metadata": {},
   "outputs": [],
   "source": [
    "def nums(lst1):\n",
    "    sum = 0\n",
    "    for item in lst1:\n",
    "        sum= sum + int(item)\n",
    "    return sum\n"
   ]
  },
  {
   "cell_type": "code",
   "execution_count": null,
   "metadata": {},
   "outputs": [
    {
     "name": "stdout",
     "output_type": "stream",
     "text": [
      "13\n"
     ]
    }
   ],
   "source": [
    "lst1 = input(\"enter the list\").split(',')\n",
    "value=nums(lst1)\n",
    "print(value)"
   ]
  },
  {
   "cell_type": "code",
   "execution_count": null,
   "metadata": {},
   "outputs": [
    {
     "name": "stdout",
     "output_type": "stream",
     "text": [
      "Sum: 6\n"
     ]
    }
   ],
   "source": [
    "def sumListfn(lst2):\n",
    "    sum = 0\n",
    "    # logic to sum the numbers in the list\n",
    "    for item in lst2:\n",
    "        sum += int(item)\n",
    "    return sum\n",
    "\n",
    "userInput = input(\"enter a list of numbers seperated via coma\")\n",
    "#2,3,4,5,6,7,10,23\n",
    "array = userInput.strip().split(',')\n",
    "#[\"2\",\"3\",\"4\",\"5\",\"6\",\"7\",\"10\",\"23\"]\n",
    "sum = sumListfn(array)\n",
    "print(\"Sum:\",sum)"
   ]
  },
  {
   "cell_type": "code",
   "execution_count": null,
   "metadata": {},
   "outputs": [
    {
     "name": "stdout",
     "output_type": "stream",
     "text": [
      "10\n"
     ]
    }
   ],
   "source": [
    "def nums(lst1):\n",
    "    sum = 0\n",
    "    for item in lst1:\n",
    "        sum= sum + int(item)\n",
    "    return sum\n",
    "lst1 = input(\"enter the list\").split(',')\n",
    "value=nums(lst1)\n",
    "print(value)\n"
   ]
  },
  {
   "cell_type": "markdown",
   "metadata": {},
   "source": [
    "Q....count the numbers odd and even numbers in the list and print the odd numbers count and even numbers count along with the numbers\n",
    "\n",
    "you will have a function that will take list of numbers ,then returns the count of odd numbers and even numbers and the new list of odd numbers and even numbers"
   ]
  },
  {
   "cell_type": "code",
   "execution_count": null,
   "metadata": {},
   "outputs": [
    {
     "name": "stdout",
     "output_type": "stream",
     "text": [
      "odd\n"
     ]
    }
   ],
   "source": [
    "n=int(input(\"enter the number\"))\n",
    "if n%2==0:\n",
    "    print(\"even\")\n",
    "else:\n",
    "    print(\"odd\")"
   ]
  },
  {
   "cell_type": "code",
   "execution_count": null,
   "metadata": {},
   "outputs": [
    {
     "ename": "NameError",
     "evalue": "name 'count' is not defined",
     "output_type": "error",
     "traceback": [
      "\u001b[1;31m---------------------------------------------------------------------------\u001b[0m",
      "\u001b[1;31mNameError\u001b[0m                                 Traceback (most recent call last)",
      "\u001b[1;32m~\\AppData\\Local\\Temp\\ipykernel_13604\\652935014.py\u001b[0m in \u001b[0;36m<module>\u001b[1;34m\u001b[0m\n\u001b[0;32m      9\u001b[0m         \u001b[1;32mreturn\u001b[0m \u001b[0mcount\u001b[0m\u001b[1;33m\u001b[0m\u001b[0m\n\u001b[0;32m     10\u001b[0m \u001b[0mlst4\u001b[0m\u001b[1;33m=\u001b[0m\u001b[1;33m(\u001b[0m\u001b[1;33m[\u001b[0m\u001b[1;36m2\u001b[0m\u001b[1;33m,\u001b[0m\u001b[1;36m4\u001b[0m\u001b[1;33m,\u001b[0m\u001b[1;36m5\u001b[0m\u001b[1;33m,\u001b[0m\u001b[1;36m7\u001b[0m\u001b[1;33m,\u001b[0m\u001b[1;36m78\u001b[0m\u001b[1;33m,\u001b[0m\u001b[1;36m55\u001b[0m\u001b[1;33m]\u001b[0m\u001b[1;33m)\u001b[0m\u001b[1;33m\u001b[0m\u001b[0m\n\u001b[1;32m---> 11\u001b[1;33m \u001b[0madd\u001b[0m\u001b[1;33m=\u001b[0m\u001b[0mnumbers\u001b[0m\u001b[1;33m(\u001b[0m\u001b[0mlst4\u001b[0m\u001b[1;33m)\u001b[0m\u001b[1;33m\u001b[0m\u001b[0m\n\u001b[0m\u001b[0;32m     12\u001b[0m \u001b[0mprint\u001b[0m\u001b[1;33m(\u001b[0m\u001b[0madd\u001b[0m\u001b[1;33m)\u001b[0m\u001b[1;33m\u001b[0m\u001b[0m\n\u001b[0;32m     13\u001b[0m \u001b[1;33m\u001b[0m\u001b[0m\n",
      "\u001b[1;32m~\\AppData\\Local\\Temp\\ipykernel_13604\\652935014.py\u001b[0m in \u001b[0;36mnumbers\u001b[1;34m(lst4)\u001b[0m\n\u001b[0;32m      2\u001b[0m \u001b[1;32mdef\u001b[0m \u001b[0mnumbers\u001b[0m\u001b[1;33m(\u001b[0m\u001b[0mlst4\u001b[0m\u001b[1;33m)\u001b[0m\u001b[1;33m:\u001b[0m\u001b[1;33m\u001b[0m\u001b[0m\n\u001b[0;32m      3\u001b[0m     \u001b[1;32mfor\u001b[0m \u001b[0mitem\u001b[0m \u001b[1;32min\u001b[0m \u001b[0mlst4\u001b[0m\u001b[1;33m:\u001b[0m\u001b[1;33m\u001b[0m\u001b[0m\n\u001b[1;32m----> 4\u001b[1;33m         \u001b[0mcount\u001b[0m\u001b[1;33m(\u001b[0m\u001b[0mlst4\u001b[0m\u001b[1;33m)\u001b[0m\u001b[1;33m\u001b[0m\u001b[0m\n\u001b[0m\u001b[0;32m      5\u001b[0m         \u001b[1;32mif\u001b[0m\u001b[1;33m(\u001b[0m\u001b[0mn\u001b[0m\u001b[1;33m%\u001b[0m\u001b[1;36m2\u001b[0m\u001b[1;33m==\u001b[0m\u001b[1;36m0\u001b[0m\u001b[1;33m)\u001b[0m\u001b[1;33m:\u001b[0m\u001b[1;33m\u001b[0m\u001b[0m\n\u001b[0;32m      6\u001b[0m             \u001b[0mprint\u001b[0m\u001b[1;33m(\u001b[0m\u001b[1;34m\"count of even\"\u001b[0m\u001b[1;33m)\u001b[0m\u001b[1;33m\u001b[0m\u001b[0m\n",
      "\u001b[1;31mNameError\u001b[0m: name 'count' is not defined"
     ]
    }
   ],
   "source": [
    "n=int(input(\"enter the number\"))\n",
    "def numbers(lst4):\n",
    "    for item in lst4:\n",
    "        countlen(lst4)\n",
    "        if(n%2==0):\n",
    "            print(\"count of even\")\n",
    "        else:\n",
    "            print(\"count of odd\")\n",
    "        return count\n",
    "lst4=([2,4,5,7,78,55])\n",
    "add=numbers(lst4)\n",
    "print(add)\n",
    "      \n"
   ]
  },
  {
   "cell_type": "code",
   "execution_count": null,
   "metadata": {},
   "outputs": [
    {
     "name": "stdout",
     "output_type": "stream",
     "text": [
      "count of the even number is 3\n",
      "list of even numbers: ['4', '6', '4']\n",
      "count of the odd number is 5\n",
      "list of odd numbers: ['5', '7', '9', '55', '99']\n"
     ]
    }
   ],
   "source": [
    "def odd_even(ls):\n",
    "    odd = []\n",
    "    even = []\n",
    "    for i in ls:\n",
    "        if int(i) % 2 ==0:\n",
    "            even.append(i)\n",
    "        else:\n",
    "            odd.append(i)\n",
    "    return even,odd\n",
    "\n",
    "numbers = input(\"enter the numbers:\").split(\",\")\n",
    "even, odd = odd_even(numbers)\n",
    "print(\"count of the even number is\",len(even))\n",
    "print(\"list of even numbers:\",even)\n",
    "print(\"count of the odd number is\",len(odd))\n",
    "print(\"list of odd numbers:\",odd)"
   ]
  },
  {
   "cell_type": "code",
   "execution_count": null,
   "metadata": {},
   "outputs": [
    {
     "name": "stdout",
     "output_type": "stream",
     "text": [
      "6\n"
     ]
    }
   ],
   "source": [
    "a=int(input(\"enter first number\")) \n",
    "b=int(input(\"enter second number\"))\n",
    "c=int(input(\"enter third number\"))\n",
    "mul=a*b*c\n",
    "print(mul)"
   ]
  },
  {
   "cell_type": "markdown",
   "metadata": {},
   "source": [
    "BEGIN\n",
    "NUMBER a,b,c\n",
    "Display \"A:\"\n",
    "INPUT a\n",
    "Display \"B:\"\n",
    "INPUT b\n"
   ]
  },
  {
   "cell_type": "markdown",
   "metadata": {},
   "source": [
    "File Handling "
   ]
  },
  {
   "cell_type": "markdown",
   "metadata": {},
   "source": [
    "open()  #pre defined func  \n",
    "open(\"sample.txt\",\"w+\")    #- (1.file location , 2.what is the func - write w+, read r+, append a+)"
   ]
  },
  {
   "cell_type": "code",
   "execution_count": null,
   "metadata": {},
   "outputs": [],
   "source": [
    "file = open(\"sample.txt\",\"a+\")    \n"
   ]
  },
  {
   "cell_type": "code",
   "execution_count": null,
   "metadata": {},
   "outputs": [
    {
     "data": {
      "text/plain": [
       "42"
      ]
     },
     "execution_count": 45,
     "metadata": {},
     "output_type": "execute_result"
    }
   ],
   "source": [
    "file.write(\"This is my first line to file from python\\n\")"
   ]
  },
  {
   "cell_type": "code",
   "execution_count": null,
   "metadata": {},
   "outputs": [],
   "source": [
    "file.close()"
   ]
  },
  {
   "cell_type": "code",
   "execution_count": null,
   "metadata": {},
   "outputs": [
    {
     "data": {
      "text/plain": [
       "'This is my first line to file from python\\n'"
      ]
     },
     "execution_count": 50,
     "metadata": {},
     "output_type": "execute_result"
    }
   ],
   "source": [
    "file = open(\"sample.txt\",\"r+\")\n",
    "file.readline()"
   ]
  },
  {
   "cell_type": "code",
   "execution_count": null,
   "metadata": {},
   "outputs": [
    {
     "data": {
      "text/plain": [
       "['This is my first line to file from python\\n',\n",
       " 'This is my first line to file from python\\n',\n",
       " 'This is my first line to file from python\\n']"
      ]
     },
     "execution_count": 51,
     "metadata": {},
     "output_type": "execute_result"
    }
   ],
   "source": [
    "file.readlines()"
   ]
  },
  {
   "cell_type": "markdown",
   "metadata": {},
   "source": [
    "write a function in python that accepts your details and save it into file with your name     \n"
   ]
  },
  {
   "cell_type": "code",
   "execution_count": null,
   "metadata": {},
   "outputs": [
    {
     "name": "stdout",
     "output_type": "stream",
     "text": [
      "name sravani\n",
      "Phn 455\n",
      "email hkjk\n"
     ]
    }
   ],
   "source": [
    "def info(details):\n",
    "    for item in details:\n",
    "        return info\n",
    "file = open(\"sravani.txt\",\"w+\")\n",
    "file.write\n",
    "name = input(\"enter the name:\")\n",
    "Phn = int(input(\"enter the number:\"))\n",
    "email = input(\"enter the mail\")\n",
    "\n",
    "print(\"name\",name)\n",
    "print(\"Phn\",Phn)\n",
    "print(\"email\",email)\n"
   ]
  },
  {
   "cell_type": "code",
   "execution_count": 2,
   "metadata": {},
   "outputs": [],
   "source": [
    "def saveDetails(name, email, phone):\n",
    "    filename = name + \".txt\"\n",
    "    with open(filename, \"w+\") as file:\n",
    "        file.write(\"Name\\t:\\t\"+name)\n",
    "        file.write(\"\\nEmail\\t:\\t\"+email)\n",
    "        file.write(\"\\nPhone\\t:\\t\"+phone)\n",
    "\n",
    "user_name = input(\"\\t Enter your name\")\n",
    "user_email = input(\"Enter your Eamil\")\n",
    "user_phone = input(\"Enter your phone\")\n",
    "saveDetails(user_name,user_email,user_phone)"
   ]
  },
  {
   "cell_type": "markdown",
   "metadata": {},
   "source": [
    "write a python program that will take two operands and an operator and performs the calculation and gives the result. Also save the calculations that your program performs in a file"
   ]
  },
  {
   "cell_type": "markdown",
   "metadata": {},
   "source": [
    "while condition:\n",
    "      code block\n",
    "while condition executes infinitely\n",
    "\n"
   ]
  },
  {
   "cell_type": "code",
   "execution_count": 1,
   "metadata": {},
   "outputs": [
    {
     "ename": "SyntaxError",
     "evalue": "invalid syntax (2518175739.py, line 4)",
     "output_type": "error",
     "traceback": [
      "\u001b[1;36m  File \u001b[1;32m\"C:\\Users\\V SRAVANI\\AppData\\Local\\Temp\\ipykernel_16000\\2518175739.py\"\u001b[1;36m, line \u001b[1;32m4\u001b[0m\n\u001b[1;33m    print(\"\\t\"a,res)\u001b[0m\n\u001b[1;37m              ^\u001b[0m\n\u001b[1;31mSyntaxError\u001b[0m\u001b[1;31m:\u001b[0m invalid syntax\n"
     ]
    }
   ],
   "source": [
    "a = 0\n",
    "while a < 7:\n",
    "    res = a * a\n",
    "    print(a,res)\n",
    "    a = a+ 1"
   ]
  },
  {
   "cell_type": "code",
   "execution_count": null,
   "metadata": {},
   "outputs": [],
   "source": [
    "b = 5\n",
    "while b > 5:\n",
    "    res = b * b\n",
    "    print(b,res)\n",
    "    b = b- 1"
   ]
  },
  {
   "cell_type": "code",
   "execution_count": null,
   "metadata": {},
   "outputs": [
    {
     "name": "stdout",
     "output_type": "stream",
     "text": [
      "1\n",
      "2\n",
      "3\n",
      "4\n",
      "5\n",
      "6\n"
     ]
    }
   ],
   "source": [
    "# break,continue\n",
    "\n",
    "for i in range(1,10,1):\n",
    "    if i == 7:\n",
    "        break\n",
    "    print(i)"
   ]
  },
  {
   "cell_type": "code",
   "execution_count": null,
   "metadata": {},
   "outputs": [
    {
     "name": "stdout",
     "output_type": "stream",
     "text": [
      "1\n",
      "2\n",
      "3\n",
      "4\n",
      "5\n",
      "6\n",
      "8\n",
      "9\n"
     ]
    }
   ],
   "source": [
    "for i in range(1,10,1):\n",
    "    if i == 7:\n",
    "        continue\n",
    "    print(i)"
   ]
  },
  {
   "cell_type": "code",
   "execution_count": null,
   "metadata": {},
   "outputs": [
    {
     "name": "stdout",
     "output_type": "stream",
     "text": [
      "['\\t', 'ABC', 'ABC', 'CDF', 'ABC', 'EFD', 'BCD', 'NBG']\n",
      "{'BCD', 'CDF', '\\t', 'EFD', 'NBG', 'ABC'}\n"
     ]
    }
   ],
   "source": [
    "#set \n",
    "list_ex = [\"ABC\",\"ABC\",\"CDF\",\"ABC\",\"EFD\",\"BCD\",\"NBG\"]\n",
    "set_ex = set(list_ex)\n",
    "print(list_ex)\n",
    "print(set_ex)"
   ]
  },
  {
   "cell_type": "code",
   "execution_count": null,
   "metadata": {},
   "outputs": [
    {
     "name": "stdout",
     "output_type": "stream",
     "text": [
      "['ABC', 'ABC', 'CDF', 'ABC', 'EFD', 'BCD', 'NBG']\n",
      "{'BCD', 'CDF', 'NBG', 'EFD', 'ABC'}\n",
      "['BCD', 'CDF', 'NBG', 'EFD', 'ABC']\n",
      "<class 'list'>\n",
      "<class 'set'>\n",
      "<class 'list'>\n"
     ]
    }
   ],
   "source": [
    "\n",
    "\n",
    "list_ex = [\"ABC\",\"ABC\",\"CDF\",\"ABC\",\"EFD\",\"BCD\",\"NBG\"]\n",
    "set_ex = set(list_ex)\n",
    "back = list(set_ex)\n",
    "print(list_ex)\n",
    "print(set_ex)\n",
    "print(back)\n",
    "print(type(list_ex))\n",
    "print(type(set_ex))\n",
    "print(type(back))"
   ]
  },
  {
   "cell_type": "markdown",
   "metadata": {},
   "source": [
    "create a list names that are random and repeating from user identify the unique items and thier count\n"
   ]
  },
  {
   "cell_type": "code",
   "execution_count": 5,
   "metadata": {},
   "outputs": [
    {
     "ename": "NameError",
     "evalue": "name 'userInput' is not defined",
     "output_type": "error",
     "traceback": [
      "\u001b[1;31m---------------------------------------------------------------------------\u001b[0m",
      "\u001b[1;31mNameError\u001b[0m                                 Traceback (most recent call last)",
      "\u001b[1;32m~\\AppData\\Local\\Temp\\ipykernel_16000\\3331118628.py\u001b[0m in \u001b[0;36m<module>\u001b[1;34m\u001b[0m\n\u001b[0;32m      1\u001b[0m \u001b[0mlist_names\u001b[0m \u001b[1;33m=\u001b[0m \u001b[0minput\u001b[0m\u001b[1;33m(\u001b[0m\u001b[1;34m\"enter a list of numbers seperated via coma\"\u001b[0m\u001b[1;33m)\u001b[0m\u001b[1;33m\u001b[0m\u001b[0m\n\u001b[1;32m----> 2\u001b[1;33m \u001b[0marray\u001b[0m \u001b[1;33m=\u001b[0m \u001b[0muserInput\u001b[0m\u001b[1;33m.\u001b[0m\u001b[0mstrip\u001b[0m\u001b[1;33m(\u001b[0m\u001b[1;33m)\u001b[0m\u001b[1;33m.\u001b[0m\u001b[0msplit\u001b[0m\u001b[1;33m(\u001b[0m\u001b[1;34m','\u001b[0m\u001b[1;33m)\u001b[0m\u001b[1;33m\u001b[0m\u001b[0m\n\u001b[0m\u001b[0;32m      3\u001b[0m \u001b[0mlist_names\u001b[0m\u001b[1;33m.\u001b[0m\u001b[0mcount\u001b[0m\u001b[1;33m(\u001b[0m\u001b[1;33m)\u001b[0m\u001b[1;33m\u001b[0m\u001b[0m\n\u001b[0;32m      4\u001b[0m \u001b[0mprint\u001b[0m\u001b[1;33m(\u001b[0m\u001b[0mlist_names\u001b[0m\u001b[1;33m,\u001b[0m\u001b[0mcount\u001b[0m\u001b[1;33m(\u001b[0m\u001b[1;33m)\u001b[0m\u001b[1;33m)\u001b[0m\u001b[1;33m\u001b[0m\u001b[0m\n",
      "\u001b[1;31mNameError\u001b[0m: name 'userInput' is not defined"
     ]
    }
   ],
   "source": [
    "\n",
    "list_names = input(\"enter a list of numbers seperated via coma\")\n",
    "array = userInput.strip().split(',')\n",
    "list_names.count()\n",
    "print(list_names,count())"
   ]
  },
  {
   "cell_type": "code",
   "execution_count": null,
   "metadata": {},
   "outputs": [],
   "source": [
    "names []\n",
    "for i in range(0,10,1):\n",
    "    name = input(\"enter the name\")\n",
    "    name = name.strip()\n",
    "    name = name.upper()\n",
    "    names.append()\n",
    "\n",
    "#print(names)\n",
    "unique_names = set(names)\n",
    "#print(unique_names)\n",
    "for search in unique_names:\n"
   ]
  },
  {
   "cell_type": "markdown",
   "metadata": {},
   "source": [
    "Dictionary"
   ]
  },
  {
   "cell_type": "code",
   "execution_count": null,
   "metadata": {},
   "outputs": [
    {
     "name": "stdout",
     "output_type": "stream",
     "text": [
      "{'Name': 'sravani', 'phone': 8790742059, 'email': 'vsravani0123@gmail.com'}\n"
     ]
    }
   ],
   "source": [
    "my_dict = {\"Name\": \"sravani\",\n",
    "           \"phone\": 8790742059,\n",
    "           \"email\": \"vsravani0123@gmail.com\"\n",
    "           }\n",
    "print(my_dict)"
   ]
  },
  {
   "cell_type": "code",
   "execution_count": null,
   "metadata": {},
   "outputs": [
    {
     "name": "stdout",
     "output_type": "stream",
     "text": [
      "sravani\n"
     ]
    }
   ],
   "source": [
    "print(my_dict[\"Name\"])"
   ]
  },
  {
   "cell_type": "code",
   "execution_count": null,
   "metadata": {},
   "outputs": [
    {
     "name": "stdout",
     "output_type": "stream",
     "text": [
      "{'Name': 'sai', 'phone': 8790742059, 'email': 'vsravani0123@gmail.com'}\n"
     ]
    }
   ],
   "source": [
    "my_dict[\"Name\"] = \"sai\"\n",
    "print(my_dict)"
   ]
  },
  {
   "cell_type": "code",
   "execution_count": null,
   "metadata": {},
   "outputs": [
    {
     "name": "stdout",
     "output_type": "stream",
     "text": [
      "{'Name': 'sai', 'phone': 8790742059, 'email': 'vsravani0123@gmail.com', 'Address': 'hyderabad'}\n"
     ]
    }
   ],
   "source": [
    "my_dict[\"Address\"] = \"hyderabad\"\n",
    "print(my_dict)"
   ]
  },
  {
   "cell_type": "code",
   "execution_count": null,
   "metadata": {},
   "outputs": [
    {
     "data": {
      "text/plain": [
       "dict_keys(['Name', 'phone', 'email', 'Address'])"
      ]
     },
     "execution_count": 11,
     "metadata": {},
     "output_type": "execute_result"
    }
   ],
   "source": [
    "my_dict.keys()"
   ]
  },
  {
   "cell_type": "code",
   "execution_count": null,
   "metadata": {},
   "outputs": [
    {
     "data": {
      "text/plain": [
       "dict_values(['sai', 8790742059, 'vsravani0123@gmail.com', 'hyderabad'])"
      ]
     },
     "execution_count": 12,
     "metadata": {},
     "output_type": "execute_result"
    }
   ],
   "source": [
    "my_dict.values()"
   ]
  },
  {
   "cell_type": "code",
   "execution_count": null,
   "metadata": {},
   "outputs": [
    {
     "name": "stdout",
     "output_type": "stream",
     "text": [
      "dict_keys(['Name', 'phone', 'email', 'Address'])\n",
      "Name\n",
      "phone\n",
      "email\n",
      "Address\n"
     ]
    }
   ],
   "source": [
    "print(my_dict.keys())\n",
    "for key in my_dict.keys():\n",
    "    print(key)"
   ]
  },
  {
   "cell_type": "code",
   "execution_count": null,
   "metadata": {},
   "outputs": [
    {
     "name": "stdout",
     "output_type": "stream",
     "text": [
      "amala\n",
      "mansa\n",
      "madh\n",
      "sai\n",
      "sravani\n"
     ]
    }
   ],
   "source": [
    "students = {\"names\": [\"amala\",\"mansa\",\"madh\",\"sai\",\"sravani\"],\"roll number\":[1,5,4,54,7]}\n",
    "for name in students[\"names\"]:\n",
    "    print(name)"
   ]
  },
  {
   "cell_type": "code",
   "execution_count": null,
   "metadata": {},
   "outputs": [
    {
     "name": "stdout",
     "output_type": "stream",
     "text": [
      "madh\n"
     ]
    }
   ],
   "source": [
    "print(students[\"names\"][2])"
   ]
  },
  {
   "cell_type": "code",
   "execution_count": null,
   "metadata": {},
   "outputs": [
    {
     "ename": "SyntaxError",
     "evalue": "invalid syntax (1249975449.py, line 8)",
     "output_type": "error",
     "traceback": [
      "\u001b[1;36m  File \u001b[1;32m\"C:\\Users\\V SRAVANI\\AppData\\Local\\Temp\\ipykernel_2744\\1249975449.py\"\u001b[1;36m, line \u001b[1;32m8\u001b[0m\n\u001b[1;33m    {\"rollnumber\":23122144,\u001b[0m\n\u001b[1;37m    ^\u001b[0m\n\u001b[1;31mSyntaxError\u001b[0m\u001b[1;31m:\u001b[0m invalid syntax\n"
     ]
    }
   ],
   "source": [
    "mscdsb = [\n",
    "\n",
    "    {\"rollnumber\":23122101,\n",
    "     \"name\" :\"adith\",\n",
    "     \"email\" :\"adth123@gmail.com\",\n",
    "     \"phno\" : 8795785485\n",
    "    }\n",
    "    {\"rollnumber\":23122144,\n",
    "     \"name\" :\"anand\",\n",
    "     \"email\" :\"anad23@gmail.com\",\n",
    "     \"phno\" : 87957854485\n",
    "     }\n",
    "     {\n",
    "        \"rollnumber\":23122141,\n",
    "     \"name\" :\"adith\",\n",
    "     \"email\" :\"aditg3@gmail.com\",\n",
    "     \"phno\" : 8795445485\n",
    "    }\n",
    "    ]\n",
    "\n",
    "\n",
    "           \n",
    "           \n",
    "        "
   ]
  },
  {
   "cell_type": "code",
   "execution_count": null,
   "metadata": {},
   "outputs": [
    {
     "ename": "NameError",
     "evalue": "name 'mscdsb' is not defined",
     "output_type": "error",
     "traceback": [
      "\u001b[1;31m---------------------------------------------------------------------------\u001b[0m",
      "\u001b[1;31mNameError\u001b[0m                                 Traceback (most recent call last)",
      "\u001b[1;32m~\\AppData\\Local\\Temp\\ipykernel_2744\\203292452.py\u001b[0m in \u001b[0;36m<module>\u001b[1;34m\u001b[0m\n\u001b[1;32m----> 1\u001b[1;33m \u001b[1;32mfor\u001b[0m \u001b[0mstudent\u001b[0m \u001b[1;32min\u001b[0m \u001b[0mmscdsb\u001b[0m\u001b[1;33m:\u001b[0m\u001b[1;33m\u001b[0m\u001b[0m\n\u001b[0m\u001b[0;32m      2\u001b[0m     \u001b[0mprint\u001b[0m\u001b[1;33m(\u001b[0m\u001b[0mstudent\u001b[0m\u001b[1;33m)\u001b[0m\u001b[1;33m\u001b[0m\u001b[0m\n\u001b[0;32m      3\u001b[0m     \u001b[1;32mfor\u001b[0m \u001b[0mkey\u001b[0m \u001b[1;32min\u001b[0m \u001b[0mstudent\u001b[0m\u001b[1;33m.\u001b[0m\u001b[0mkeys\u001b[0m\u001b[1;33m(\u001b[0m\u001b[1;33m)\u001b[0m\u001b[1;33m:\u001b[0m\u001b[1;33m\u001b[0m\u001b[0m\n\u001b[0;32m      4\u001b[0m         \u001b[0mprint\u001b[0m\u001b[1;33m(\u001b[0m\u001b[0mstudent\u001b[0m\u001b[1;33m[\u001b[0m\u001b[0mkey\u001b[0m\u001b[1;33m]\u001b[0m\u001b[1;33m,\u001b[0m\u001b[0mend\u001b[0m\u001b[1;33m=\u001b[0m\u001b[1;34m\"\\t\"\u001b[0m\u001b[1;33m)\u001b[0m\u001b[1;33m\u001b[0m\u001b[0m\n\u001b[0;32m      5\u001b[0m         \u001b[0mprint\u001b[0m\u001b[1;33m(\u001b[0m\u001b[1;33m)\u001b[0m\u001b[1;33m\u001b[0m\u001b[0m\n",
      "\u001b[1;31mNameError\u001b[0m: name 'mscdsb' is not defined"
     ]
    }
   ],
   "source": [
    "for student in mscdsb:\n",
    "    print(student)\n",
    "    for key in student.keys():\n",
    "        print(student[key],end=\"\\t\")\n",
    "        print()"
   ]
  },
  {
   "cell_type": "code",
   "execution_count": null,
   "metadata": {},
   "outputs": [],
   "source": [
    "mscdsb = [\n",
    "\n",
    "    {\"rollnumber\":23122101,\n",
    "     \"name\" :\"adith\",\n",
    "     \"email\" :\"adth123@gmail.com\",\n",
    "     \"phno\" : 8795785485\n",
    "    }\n",
    "    {\"rollnumber\":23122144,\n",
    "     \"name\" :\"anand\",\n",
    "     \"email\" :\"anad23@gmail.com\",\n",
    "     \"phno\" : 87957854485\n",
    "     }\n",
    "     {\n",
    "        \"rollnumber\":23122141,\n",
    "     \"name\" :\"adith\",\n",
    "     \"email\" :\"aditg3@gmail.com\",\n",
    "     \"phno\" : 8795445485\n",
    "    }\n",
    "    ]"
   ]
  },
  {
   "cell_type": "code",
   "execution_count": null,
   "metadata": {},
   "outputs": [
    {
     "name": "stdout",
     "output_type": "stream",
     "text": [
      "sravani\n",
      "0\n",
      "count of a 0\n",
      "count of e 0\n",
      "count of i 0\n",
      "count of o 0\n",
      "count of u 0\n",
      "0.0\n",
      "0\n",
      "count of a 0\n",
      "count of e 0\n",
      "count of i 0\n",
      "count of o 0\n",
      "count of u 0\n",
      "0.0\n",
      "1\n",
      "count of a 1\n",
      "count of e 0\n",
      "count of i 0\n",
      "count of o 0\n",
      "count of u 0\n",
      "14.285714285714285\n",
      "1\n",
      "count of a 1\n",
      "count of e 0\n",
      "count of i 0\n",
      "count of o 0\n",
      "count of u 0\n",
      "14.285714285714285\n",
      "2\n",
      "count of a 2\n",
      "count of e 0\n",
      "count of i 0\n",
      "count of o 0\n",
      "count of u 0\n",
      "28.57142857142857\n",
      "2\n",
      "count of a 2\n",
      "count of e 0\n",
      "count of i 0\n",
      "count of o 0\n",
      "count of u 0\n",
      "28.57142857142857\n",
      "3\n",
      "count of a 2\n",
      "count of e 0\n",
      "count of i 1\n",
      "count of o 0\n",
      "count of u 0\n",
      "42.857142857142854\n"
     ]
    }
   ],
   "source": [
    "str1 = input(\"enter the string:\")\n",
    "r=str1.lower()\n",
    "print(r)\n",
    "counta = 0\n",
    "counte = 0\n",
    "counti = 0\n",
    "counto = 0\n",
    "countu = 0\n",
    "for i in r:\n",
    "        if i==\"a\":\n",
    "            counta +=1\n",
    "        elif i==\"e\":\n",
    "            counte +=1\n",
    "        elif i==\"i\":\n",
    "            counti +=1\n",
    "        elif i==\"o\":\n",
    "            counto +=1\n",
    "        elif i==\"u\":\n",
    "            countu +=1\n",
    "        else:\n",
    "            pass\n",
    "        t=counta+counte+counti+counto+countu\n",
    "        print(t)\n",
    "        print(\"count of a\",counta)\n",
    "        print(\"count of e\",counte)\n",
    "        print(\"count of i\",counti)\n",
    "        print(\"count of o\",counto)\n",
    "        print(\"count of u\",countu)\n",
    "        n=len(r)\n",
    "        prcnt=(t/n)*100\n",
    "        print(prcnt)\n"
   ]
  },
  {
   "cell_type": "code",
   "execution_count": null,
   "metadata": {},
   "outputs": [
    {
     "name": "stdout",
     "output_type": "stream",
     "text": [
      "sai\n",
      "0\n",
      "count of a 0\n",
      "count of e 0\n",
      "count of i 0\n",
      "count of o 0\n",
      "count of u 0\n",
      "0.0\n",
      "1\n",
      "count of a 1\n",
      "count of e 0\n",
      "count of i 0\n",
      "count of o 0\n",
      "count of u 0\n",
      "33.33333333333333\n",
      "2\n",
      "count of a 1\n",
      "count of e 0\n",
      "count of i 1\n",
      "count of o 0\n",
      "count of u 0\n",
      "66.66666666666666\n"
     ]
    }
   ],
   "source": [
    "str1 = input(\"enter the string:\")\n",
    "r=str1.lower()\n",
    "print(r)\n",
    "counta = 0\n",
    "counte = 0\n",
    "counti = 0\n",
    "counto = 0\n",
    "countu = 0\n",
    "for i in r:\n",
    "        if i==\"a\":\n",
    "            counta +=1\n",
    "        elif i==\"e\":\n",
    "            counte +=1\n",
    "        elif i==\"i\":\n",
    "            counti +=1\n",
    "        elif i==\"o\":\n",
    "            counto +=1\n",
    "        elif i==\"u\":\n",
    "            countu +=1\n",
    "        else:\n",
    "            pass\n",
    "        t=counta+counte+counti+counto+countu\n",
    "        print(t)\n",
    "        print(\"count of a\",counta)\n",
    "        print(\"count of e\",counte)\n",
    "        print(\"count of i\",counti)\n",
    "        print(\"count of o\",counto)\n",
    "        print(\"count of u\",countu)\n",
    "        n=len(r)\n",
    "        prcnt=(t/n)*100\n",
    "        print(prcnt)"
   ]
  },
  {
   "cell_type": "code",
   "execution_count": null,
   "metadata": {},
   "outputs": [
    {
     "name": "stdout",
     "output_type": "stream",
     "text": [
      "1 1 1 1 1\n"
     ]
    }
   ],
   "source": [
    "inputString = str(input(\"Please type a sentence: \"))\n",
    "a = \"a\"\n",
    "A = \"A\"\n",
    "e = \"e\"\n",
    "E = \"E\"\n",
    "i = \"i\"\n",
    "I = \"I\"\n",
    "o = \"o\"\n",
    "O = \"O\"\n",
    "u = \"u\"\n",
    "U = \"U\"\n",
    "acount = 0\n",
    "ecount = 0\n",
    "icount = 0\n",
    "ocount = 0\n",
    "ucount = 0\n",
    "\n",
    "if A or a in inputString :\n",
    "     acount = acount + 1\n",
    "\n",
    "if E or e in inputString :\n",
    "     ecount = ecount + 1\n",
    "\n",
    "if I or i in inputString:\n",
    "    icount = icount + 1\n",
    "\n",
    "if o or O in inputString :\n",
    "     ocount = ocount + 1\n",
    "\n",
    "if u or U in inputString:\n",
    "     ucount = ucount + 1\n",
    "\n",
    "print(acount, ecount, icount, ocount, ucount)"
   ]
  },
  {
   "cell_type": "code",
   "execution_count": null,
   "metadata": {},
   "outputs": [
    {
     "name": "stdout",
     "output_type": "stream",
     "text": [
      "Total Number of Vowels in this String =  3\n"
     ]
    }
   ],
   "source": [
    "str1 = input(\"Please Enter Your Own String : \")\n",
    "vowels = 0\n",
    " \n",
    "for i in str1:\n",
    "    if(i == 'a' or i == 'e' or i == 'i' or i == 'o' or i == 'u' or i == 'A'\n",
    "       or i == 'E' or i == 'I' or i == 'O' or i == 'U'):\n",
    "        vowels = vowels + 1\n",
    " \n",
    "print(\"Total Number of Vowels in this String = \", vowels)"
   ]
  },
  {
   "cell_type": "code",
   "execution_count": null,
   "metadata": {},
   "outputs": [
    {
     "name": "stdout",
     "output_type": "stream",
     "text": [
      "Enter the String:\n",
      "\n",
      "'a' occurs  2\n",
      "'e' occurs  0\n",
      "'i' occurs  1\n",
      "'o' occurs  0\n",
      "'u' occurs  0\n"
     ]
    }
   ],
   "source": [
    "print(\"Enter the String:\")\n",
    "text = input()\n",
    "\n",
    "vowela = ['a', 'A']\n",
    "vowele = ['e', 'E']\n",
    "voweli = ['i', 'I']\n",
    "vowelo = ['o', 'O']\n",
    "vowelu = ['u', 'U']\n",
    "ca = 0\n",
    "ce = 0\n",
    "ci = 0\n",
    "co = 0\n",
    "cu = 0\n",
    "\n",
    "for x in text:\n",
    "    if x in vowela:\n",
    "        ca = ca+1\n",
    "    elif x in vowele:\n",
    "        ce = ce+1\n",
    "    elif x in voweli:\n",
    "        ci = ci+1\n",
    "    elif x in vowelo:\n",
    "        co = co+1\n",
    "    elif x in vowelu:\n",
    "        cu = cu+1\n",
    "\n",
    "print(\"\\n'a' occurs \", ca)\n",
    "print(\"'e' occurs \", ce)\n",
    "print(\"'i' occurs \", ci)\n",
    "print(\"'o' occurs \", co)\n",
    "print(\"'u' occurs \", cu)"
   ]
  },
  {
   "cell_type": "code",
   "execution_count": null,
   "metadata": {},
   "outputs": [
    {
     "name": "stdout",
     "output_type": "stream",
     "text": [
      "Total Number of Vowels in this String =  Ganesh\n",
      "\n",
      "'a' occurs  1\n",
      "'e' occurs  1\n",
      "'i' occurs  0\n",
      "'o' occurs  0\n",
      "'u' occurs  0\n",
      "33.33333333333333\n"
     ]
    }
   ],
   "source": [
    "str = input(\"enter the String : \")\n",
    "text = input()\n",
    "\n",
    "vowela = ['a', 'A']\n",
    "vowele = ['e', 'E']\n",
    "voweli = ['i', 'I']\n",
    "vowelo = ['o', 'O']\n",
    "vowelu = ['u', 'U']\n",
    " \n",
    "print(\"Total Number of Vowels in this String = \", text)\n",
    "counta = 0\n",
    "counte = 0\n",
    "counti = 0\n",
    "counto = 0\n",
    "countu = 0\n",
    "\n",
    "for i in text:\n",
    "    if i in vowela:\n",
    "        counta = counta+1\n",
    "    elif i in vowele:\n",
    "        counte = counte+1\n",
    "    elif i in voweli:\n",
    "        counti = counti+1\n",
    "    elif i in vowelo:\n",
    "        counto = counto+1\n",
    "    elif i in vowelu:\n",
    "        countu = countu+1\n",
    "\n",
    "print(\"\\n'a' occurs \", counta)\n",
    "print(\"'e' occurs \", counte)\n",
    "print(\"'i' occurs \", counti)\n",
    "print(\"'o' occurs \", counto)\n",
    "print(\"'u' occurs \", countu)\n",
    "t=counta+counte+counti+counto+countu\n",
    "n=len(text)\n",
    "prcnt=(t/n)*100\n",
    "print(prcnt)"
   ]
  },
  {
   "cell_type": "code",
   "execution_count": null,
   "metadata": {},
   "outputs": [
    {
     "name": "stdout",
     "output_type": "stream",
     "text": [
      "\n",
      "1. Display Inventory\n",
      "2. Calculate Total Inventory Value\n",
      "3. Exit\n"
     ]
    },
    {
     "name": "stdout",
     "output_type": "stream",
     "text": [
      "Inventory:\n",
      "Product A - Price: $10.0 - Quantity: 50\n",
      "Product B - Price: $5.0 - Quantity: 100\n",
      "Product C - Price: $15.0 - Quantity: 30\n",
      "Product D - Price: $8.0 - Quantity: 75\n",
      "\n",
      "1. Display Inventory\n",
      "2. Calculate Total Inventory Value\n",
      "3. Exit\n",
      "Total Inventory Value: $2050.0\n",
      "\n",
      "1. Display Inventory\n",
      "2. Calculate Total Inventory Value\n",
      "3. Exit\n",
      "Exiting the program.\n"
     ]
    }
   ],
   "source": [
    "# Initialize an empty inventory list with items and their prices\n",
    "inventory = [\n",
    "    {\"item\": \"Product A\", \"price\": 10.0, \"quantity\": 50},\n",
    "    {\"item\": \"Product B\", \"price\": 5.0, \"quantity\": 100},\n",
    "    {\"item\": \"Product C\", \"price\": 15.0, \"quantity\": 30},\n",
    "    {\"item\": \"Product D\", \"price\": 8.0, \"quantity\": 75}\n",
    "]\n",
    "\n",
    "# Function to calculate the total value of the inventory\n",
    "def calculate_inventory_value(inventory):\n",
    "    total_value = 0\n",
    "    for item in inventory:\n",
    "        total_value += item[\"price\"] * item[\"quantity\"]\n",
    "    return total_value\n",
    "\n",
    "# Function to display the inventory\n",
    "def display_inventory(inventory):\n",
    "    print(\"Inventory:\")\n",
    "    for item in inventory:\n",
    "        print(f\"{item['item']} - Price: ${item['price']} - Quantity: {item['quantity']}\")\n",
    "\n",
    "# Main program\n",
    "while True:\n",
    "    print(\"\\n1. Display Inventory\")\n",
    "    print(\"2. Calculate Total Inventory Value\")\n",
    "    print(\"3. Exit\")\n",
    "    choice = input(\"Enter your choice (1/2/3): \")\n",
    "\n",
    "    if choice == \"1\":\n",
    "        display_inventory(inventory)\n",
    "    elif choice == \"2\":\n",
    "        total_value = calculate_inventory_value(inventory)\n",
    "        print(f\"Total Inventory Value: ${total_value}\")\n",
    "    elif choice == \"3\":\n",
    "        print(\"Exiting the program.\")\n",
    "        break\n",
    "    else:\n",
    "        print(\"Invalid choice. Please enter 1,2 or 3\")\n"
   ]
  },
  {
   "cell_type": "code",
   "execution_count": null,
   "metadata": {},
   "outputs": [],
   "source": [
    "import random\n",
    "def fileWrite(item,quantity,price): #function to write user input in data\n",
    "    file=open(\"23122140.txt\",\"a+\")\n",
    "    file.write(\"\\n\"+item+\",\"+str(quantity)+\",\"+str(price))\n",
    "    file.close()\n",
    "\n",
    "def calcdishsales(countd,sumd,items):\n",
    "    for line in open(\"23122140.txt\",\"r+\").readlines(): #Loop to add income for each dish\n",
    "        read=line.split(\",\")\n",
    "        if read[0]==\"dish1\":\n",
    "            countd[0]=countd[0]+int(read[1])\n",
    "            sumd[0]=sumd[0]+(int(read[1])*int(read[2]))\n",
    "        elif read[0]==\"dish2\":\n",
    "            countd[1]=countd[1]+int(read[1])\n",
    "            sumd[1]=sumd[1]+(int(read[1])*int(read[2]))\n",
    "        elif read[0]==\"dish3\":\n",
    "            countd[2]=countd[2]+int(read[1])\n",
    "            sumd[2]=sumd[2]+(int(read[1])*int(read[2]))\n",
    "        elif read[0]==\"dish4\":\n",
    "            countd[3]=countd[3]+int(read[1])\n",
    "            sumd[3]=sumd[3]+(int(read[1])*int(read[2]))\n",
    "        elif read[0]==\"dish5\":\n",
    "            countd[4]=countd[4]+int(read[1])\n",
    "            sumd[4]=sumd[4]+(int(read[1])*int(read[2]))\n",
    "        elif read[0]==\"dish6\":\n",
    "            countd[5]=countd[5]+int(read[1])\n",
    "            sumd[5]=sumd[5]+(int(read[1])*int(read[2]))\n",
    "        elif read[0]==\"dish7\":\n",
    "            countd[6]=countd[6]+int(read[1])\n",
    "            sumd[6]=sumd[6]+(int(read[1])*int(read[2]))\n",
    "        elif read[0]==\"dish8\":\n",
    "            countd[7]=countd[7]+int(read[1])\n",
    "            sumd[7]=sumd[7]+(int(read[1])*int(read[2]))\n",
    "        elif read[0]==\"dish9\":\n",
    "            countd[8]=countd[8]+int(read[1])\n",
    "            sumd[8]=sumd[8]+(int(read[1])*int(read[2]))\n",
    "        elif read[0]==\"dish10\":\n",
    "            countd[9]=countd[9]+int(read[1])\n",
    "            sumd[9]=sumd[9]+(int(read[1])*int(read[2]))\n",
    "    print(\"\\nItem\"+\" \"*5+\"Total Quantity\"+\" \"*5+\"Total\")\n",
    "    j=0\n",
    "    for i in items:\n",
    "        print(i+\" \"*10+str(countd[j])+\" \"*12+str(sumd[j]))\n",
    "        j=j+1\n",
    "    maxval=max(sumd)\n",
    "    minval=min(sumd)\n",
    "    for i in range(0,10): #Loop to find the dish having maximum income\n",
    "        if sumd[i]==maxval:\n",
    "            print(\"\\n\"+\"Item with maximum sales is \"+items[i]+\" having value of Rs.\"+str(sumd[i]))\n",
    "        elif sumd[i]==minval:\n",
    "            print(\"\\n\"+\"Item with minimum sales is \"+items[i]+\" having value of Rs.\"+str(sumd[i]))\n",
    "\n",
    "def displayrowt():\n",
    "    i=0\n",
    "    print(\"Row Number\"+\" \"*5+\"Item\"+\" \"*5+\"Quantity\"+\" \"*5+\"Price\"+\" \"*5+\"Total Price\")\n",
    "    for line in open(\"23122140.txt\",\"r+\").readlines():\n",
    "        read=line.split(\",\")\n",
    "        if i>0:\n",
    "            total = int(read[1])*int(read[2])\n",
    "            q= \"Row%s           %s       %s          %s         %s\" % (i,read[0],read[1],int(read[2]),total)\n",
    "            if i>=1 and i<=5:\n",
    "                print(q)\n",
    "            elif i>=91 and i<=101:\n",
    "                print(q)\n",
    "        i=i+1\n",
    "\n",
    "items=[\"dish1\",\"dish2\",\"dish3\",\"dish4\",\"dish5\",\"dish6\",\"dish7\",\"dish8\",\"dish9\",\"dish10\"]\n",
    "price=[30,40,50,60,45,80,65,85,90,55]\n",
    "quantity=[1,4,5,3,7,10,12,2,9,8]\n",
    "file=open(\"23122140.txt\",\"w+\")\n",
    "file.write(\"Item,Quantity,Price\")\n",
    "file.close()\n",
    "for i in range(1,101):\n",
    "    randitem=random.randint(0,9)\n",
    "    randprice=random.randint(0,9)\n",
    "    randquantity=random.randint(0,9)\n",
    "    fileWrite(items[randitem],quantity[randquantity],price[randprice])\n",
    "    if i==100:\n",
    "        print(\"New file created and 100 orders are recorded\\n\")\n",
    "displayrowt()\n",
    "countd=[0,0,0,0,0,0,0,0,0,0]\n",
    "sumd=[0,0,0,0,0,0,0,0,0,0]\n",
    "calcdishsales(countd,sumd,items)"
   ]
  },
  {
   "cell_type": "code",
   "execution_count": null,
   "metadata": {},
   "outputs": [
    {
     "name": "stdout",
     "output_type": "stream",
     "text": [
      "\n",
      "Supplier Management System\n",
      "1. Add Supplier\n",
      "2. Display Suppliers\n",
      "3. Search Supplier\n",
      "4. Exit\n",
      "Supplier 'sravani' added successfully.\n",
      "\n",
      "Supplier Management System\n",
      "1. Add Supplier\n",
      "2. Display Suppliers\n",
      "3. Search Supplier\n",
      "4. Exit\n",
      "List of Suppliers:\n",
      "1. Name: sravani, Product: shoes, Contact: 8790742059\n",
      "\n",
      "Supplier Management System\n",
      "1. Add Supplier\n",
      "2. Display Suppliers\n",
      "3. Search Supplier\n",
      "4. Exit\n",
      "Invalid choice. Please choose a valid option.\n",
      "\n",
      "Supplier Management System\n",
      "1. Add Supplier\n",
      "2. Display Suppliers\n",
      "3. Search Supplier\n",
      "4. Exit\n",
      "Exiting the program. Goodbye!\n"
     ]
    }
   ],
   "source": [
    "# Initialize an empty list to store supplier data\n",
    "suppliers = []\n",
    "\n",
    "# Function to add a new supplier to the list\n",
    "def add_supplier(name, product, contact):\n",
    "    supplier = {\n",
    "        'Name': name,\n",
    "        'Product': product,\n",
    "        'Contact': contact\n",
    "    }\n",
    "    suppliers.append(supplier)\n",
    "    print(f\"Supplier '{name}' added successfully.\")\n",
    "\n",
    "# Function to display all suppliers\n",
    "def display_suppliers():\n",
    "    if not suppliers:\n",
    "        print(\"No suppliers found.\")\n",
    "        return\n",
    "    print(\"List of Suppliers:\")\n",
    "    for idx, supplier in enumerate(suppliers, start=1):\n",
    "        print(f\"{idx}. Name: {supplier['Name']}, Product: {supplier['Product']}, Contact: {supplier['Contact']}\")\n",
    "\n",
    "# Function to search for a supplier by name\n",
    "def search_supplier(name):\n",
    "    found = False\n",
    "    for supplier in suppliers:\n",
    "        if supplier['Name'].lower() == name.lower():\n",
    "            print(f\"Supplier '{supplier['Name']}' found - Product: {supplier['Product']}, Contact: {supplier['Contact']}\")\n",
    "            found = True\n",
    "            break\n",
    "    if not found:\n",
    "        print(f\"Supplier '{name}' not found.\")\n",
    "\n",
    "# Main program loop\n",
    "while True:\n",
    "    print(\"\\nSupplier Management System\")\n",
    "    print(\"1. Add Supplier\")\n",
    "    print(\"2. Display Suppliers\")\n",
    "    print(\"3. Search Supplier\")\n",
    "    print(\"4. Exit\")\n",
    "    choice = input(\"Enter your choice: \")\n",
    "\n",
    "    if choice == '1':\n",
    "        name = input(\"Enter supplier's name: \")\n",
    "        product = input(\"Enter the product supplied: \")\n",
    "        contact = input(\"Enter supplier's contact info: \")\n",
    "        add_supplier(name, product, contact)\n",
    "    elif choice == '2':\n",
    "        display_suppliers()\n",
    "    elif choice == '3':\n",
    "        name = input(\"Enter supplier's name to search: \")\n",
    "        search_supplier(name)\n",
    "    elif choice == '4':\n",
    "        print(\"Exiting the program. Goodbye!\")\n",
    "        break\n",
    "    else:\n",
    "        print(\"Invalid choice. Please choose a valid option.\")"
   ]
  },
  {
   "cell_type": "code",
   "execution_count": null,
   "metadata": {},
   "outputs": [
    {
     "name": "stdout",
     "output_type": "stream",
     "text": [
      "\n",
      "Supply Chain Management Menu:\n",
      "1. Add Product to Inventory\n",
      "2. Dispatch Product from Inventory\n",
      "3. Check Product Availability\n",
      "4. Find the available space for the product in the Inventory\n",
      "5. Display Inventory\n",
      "6. Exit\n"
     ]
    },
    {
     "name": "stdout",
     "output_type": "stream",
     "text": [
      "40 bags added to inventory.\n",
      "\n",
      "Supply Chain Management Menu:\n",
      "1. Add Product to Inventory\n",
      "2. Dispatch Product from Inventory\n",
      "3. Check Product Availability\n",
      "4. Find the available space for the product in the Inventory\n",
      "5. Display Inventory\n",
      "6. Exit\n",
      "Invalid choice. Please select a valid option.\n",
      "\n",
      "Supply Chain Management Menu:\n",
      "1. Add Product to Inventory\n",
      "2. Dispatch Product from Inventory\n",
      "3. Check Product Availability\n",
      "4. Find the available space for the product in the Inventory\n",
      "5. Display Inventory\n",
      "6. Exit\n",
      "25 shoes added to inventory.\n",
      "\n",
      "Supply Chain Management Menu:\n",
      "1. Add Product to Inventory\n",
      "2. Dispatch Product from Inventory\n",
      "3. Check Product Availability\n",
      "4. Find the available space for the product in the Inventory\n",
      "5. Display Inventory\n",
      "6. Exit\n",
      "Current Inventory:\n",
      "bags: 40 units\n",
      "shoes: 25 units\n",
      "\n",
      "Supply Chain Management Menu:\n",
      "1. Add Product to Inventory\n",
      "2. Dispatch Product from Inventory\n",
      "3. Check Product Availability\n",
      "4. Find the available space for the product in the Inventory\n",
      "5. Display Inventory\n",
      "6. Exit\n",
      "\n",
      "Supply Chain Management Menu:\n",
      "1. Add Product to Inventory\n",
      "2. Dispatch Product from Inventory\n",
      "3. Check Product Availability\n",
      "4. Find the available space for the product in the Inventory\n",
      "5. Display Inventory\n",
      "6. Exit\n",
      "Current Inventory:\n",
      "bags: 30 units\n",
      "shoes: 25 units\n",
      "\n",
      "Supply Chain Management Menu:\n",
      "1. Add Product to Inventory\n",
      "2. Dispatch Product from Inventory\n",
      "3. Check Product Availability\n",
      "4. Find the available space for the product in the Inventory\n",
      "5. Display Inventory\n",
      "6. Exit\n",
      "Product not found in inventory\n",
      "None\n",
      "\n",
      "Supply Chain Management Menu:\n",
      "1. Add Product to Inventory\n",
      "2. Dispatch Product from Inventory\n",
      "3. Check Product Availability\n",
      "4. Find the available space for the product in the Inventory\n",
      "5. Display Inventory\n",
      "6. Exit\n",
      "Current Inventory:\n",
      "bags: 30 units\n",
      "shoes: 25 units\n",
      "\n",
      "Supply Chain Management Menu:\n",
      "1. Add Product to Inventory\n",
      "2. Dispatch Product from Inventory\n",
      "3. Check Product Availability\n",
      "4. Find the available space for the product in the Inventory\n",
      "5. Display Inventory\n",
      "6. Exit\n"
     ]
    }
   ],
   "source": [
    "# Initialize an empty list to represent the inventory\n",
    "inventory = []\n",
    "\n",
    "\n",
    "# Function to add a product to the inventory\n",
    "def add_product(product_name, quantity):\n",
    "    for item in inventory:\n",
    "        if item['product_name'] == product_name:\n",
    "            item['quantity'] += quantity\n",
    "            break\n",
    "    else:\n",
    "        inventory.append({'product_name': product_name, 'quantity': quantity})\n",
    "\n",
    "\n",
    "# Function to remove a product from the inventory\n",
    "def dispatch_product(product_name, quantity):\n",
    "    for item in inventory:\n",
    "        if item['product_name'] == product_name:\n",
    "            if item['quantity'] >= quantity:\n",
    "                item['quantity'] -= quantity\n",
    "                break\n",
    "            else:\n",
    "                print(\"Insufficient quantity in inventory.\")\n",
    "                break\n",
    "    else:\n",
    "        print(f\"{product_name} not found in inventory.\")\n",
    "\n",
    "\n",
    "# Function to check the availability of a product in the inventory\n",
    "def check_availability(product_name):\n",
    "    for item in inventory:\n",
    "        if item['product_name'] == product_name:\n",
    "            return item['quantity']\n",
    "    return 0\n",
    "\n",
    "def find_available_space(inventory, product_capacity):\n",
    "    product_capacity = 500\n",
    "    # Get user input for the product name\n",
    "    product_name = input(\"Enter the product name to check available space: \")\n",
    "\n",
    "    if product_name in inventory:\n",
    "        current_quantity = inventory[product_name]\n",
    "        max_capacity = product_capacity.get(product_name, float('inf'))  # Use max capacity if available, else infinity\n",
    "        available_space = max_capacity - current_quantity\n",
    "        print(f\"Available space for {product_name}: {available_space}\")\n",
    "    else:\n",
    "        print(\"Product not found in inventory\")\n",
    "\n",
    "# Function to display the current inventory\n",
    "def display_inventory():\n",
    "    if not inventory:\n",
    "        print(\"Inventory is empty.\")\n",
    "    else:\n",
    "        print(\"Current Inventory:\")\n",
    "        for item in inventory:\n",
    "            print(f\"{item['product_name']}: {item['quantity']} units\")\n",
    "\n",
    "\n",
    "# Main supply chain management loop\n",
    "while True:\n",
    "    print(\"\\nSupply Chain Management Menu:\")\n",
    "    print(\"1. Add Product to Inventory\")\n",
    "    print(\"2. Dispatch Product from Inventory\")\n",
    "    print(\"3. Check Product Availability\")\n",
    "    print(\"4. Find the available space for the product in the Inventory\")\n",
    "    print(\"5. Display Inventory\")\n",
    "    print(\"6. Exit\")\n",
    "\n",
    "    choice = input(\"Enter your choice: \")\n",
    "\n",
    "    if choice == '1':\n",
    "        product_name = input(\"Enter the product name: \")\n",
    "        quantity = int(input(\"Enter the quantity to add: \"))\n",
    "        add_product(product_name, quantity)\n",
    "        print(f\"{quantity} {product_name} added to inventory.\")\n",
    "\n",
    "    elif choice == '2':\n",
    "        product_name = input(\"Enter the product name: \")\n",
    "        quantity = int(input(\"Enter the quantity to dispatch: \"))\n",
    "        dispatch_product(product_name, quantity)\n",
    "            \n",
    "    elif choice == '3':\n",
    "        product_name = input(\"Enter the product name: \")\n",
    "        available_quantity = check_availability(product_name)\n",
    "        print(f\"{product_name} available in inventory: {available_quantity} units\")\n",
    "\n",
    "    elif choice == '4':\n",
    "        result = find_available_space(inventory, product_capacity)\n",
    "        print(result)\n",
    "\n",
    "        \n",
    "    elif choice == '5':\n",
    "        display_inventory()\n",
    "\n",
    "    elif choice == '6':\n",
    "        print(\"Exiting Supply Chain Management System.\")\n",
    "        break\n",
    "\n",
    "    else:\n",
    "        print(\"Invalid choice. Please select a valid option.\")"
   ]
  },
  {
   "cell_type": "code",
   "execution_count": null,
   "metadata": {},
   "outputs": [],
   "source": []
  }
 ],
 "metadata": {
  "kernelspec": {
   "display_name": "Python 3",
   "language": "python",
   "name": "python3"
  },
  "language_info": {
   "codemirror_mode": {
    "name": "ipython",
    "version": 3
   },
   "file_extension": ".py",
   "mimetype": "text/x-python",
   "name": "python",
   "nbconvert_exporter": "python",
   "pygments_lexer": "ipython3",
   "version": "3.7.0"
  },
  "orig_nbformat": 4
 },
 "nbformat": 4,
 "nbformat_minor": 2
}
