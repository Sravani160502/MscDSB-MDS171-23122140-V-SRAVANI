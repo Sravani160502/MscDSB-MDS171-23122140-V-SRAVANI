{
 "cells": [
  {
   "cell_type": "code",
   "execution_count": 5,
   "metadata": {},
   "outputs": [],
   "source": [
    "def details(name,phone,Productnames,price,quantity,total):\n",
    "    filedetails = open(\"lab04.txt\",\"a+\")\n",
    "    filedetails.write(\"name\\t:\\t\"+name)\n",
    "    filedetails.write(\"\\nphone\\t:\\t\"+phone)\n",
    "    filedetails.write(\"\\nProduct names\\t:\\t\"+Productnames)\n",
    "    filedetails.write(\"\\nprice\\t:\\t\"+price)\n",
    "    filedetails.write(\"\\nquantity\\t:\\t\"+quantity)\n",
    "    filedetails.write(\"\\ntotal\\t:\\t\"+total)\n",
    "    filedetails.close()\n",
    "    return True\n",
    "    \n",
    "\n",
    "def to_order(name, phone,Productname,price,quantity,total):\n",
    "    with open(\"lab04.txt\", \"r\") as total_orders:\n",
    "        lab04 = int(lab04.read())      \n",
    "\n",
    "\n",
    "def main():\n",
    "    print(\"1. Create Order Data\")\n",
    "    print(\"2. exit\")\n",
    "    while True:\n",
    "        try:\n",
    "            user_choice = int(input(\"Enter Your Choice (1-2): \"))\n",
    "\n",
    "            if user_choice == 1:\n",
    "                name = input(\"Enter the customer name: \")\n",
    "                phone = input(\"Enter the phone number of the customer: \")\n",
    "                Productnames = input(\"enter the Productnames\")\n",
    "                price = input(\"Price of the Products: \")\n",
    "                quantity = input(\"Quantity of that Products: \")\n",
    "                total = input(\"Total amount of the Grocery: \")\n",
    "                to_order(name, phone, Productnames,price,quantity,total, \"order\")\n",
    "            elif user_choice == 3:\n",
    "                print(\"Exitting.....\")\n",
    "                break\n",
    "            else:\n",
    "                print(\"Invalid choice.\")\n",
    "        except ValueError:\n",
    "            print(\"Enter The Value Integer\")\n"
   ]
  }
 ],
 "metadata": {
  "kernelspec": {
   "display_name": "Python 3",
   "language": "python",
   "name": "python3"
  },
  "language_info": {
   "codemirror_mode": {
    "name": "ipython",
    "version": 3
   },
   "file_extension": ".py",
   "mimetype": "text/x-python",
   "name": "python",
   "nbconvert_exporter": "python",
   "pygments_lexer": "ipython3",
   "version": "3.7.0"
  },
  "orig_nbformat": 4
 },
 "nbformat": 4,
 "nbformat_minor": 2
}
