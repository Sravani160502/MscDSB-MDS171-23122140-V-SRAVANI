{
 "cells": [
  {
   "cell_type": "code",
   "execution_count": 1,
   "metadata": {},
   "outputs": [
    {
     "data": {
      "text/plain": [
       "True"
      ]
     },
     "execution_count": 1,
     "metadata": {},
     "output_type": "execute_result"
    }
   ],
   "source": [
    "def details(name,phone,Productnames,price,quantity,total):\n",
    "    filedetails = open(\"lab04.txt\",\"a+\")\n",
    "    filedetails.write(\"name\\t:\\t\"+name)\n",
    "    filedetails.write(\"\\nphone\\t:\\t\"+phone)\n",
    "    filedetails.write(\"\\nProduct names\\t:\\t\"+Productnames)\n",
    "    filedetails.write(\"\\nprice\\t:\\t\"+price)\n",
    "    filedetails.write(\"\\nquantity\\t:\\t\"+quantity)\n",
    "    filedetails.write(\"\\ntotal\\t:\\t\"+total)\n",
    "    filedetails.close()\n",
    "    return True\n",
    "    \n",
    "    \n",
    "name = input(\"Enter the customer name: \")\n",
    "phone = input(\"Enter the phone number of the customer: \")\n",
    "Productnames = input(\"enter the Productnames\")\n",
    "price = input(\"Price of the Products: \")\n",
    "quantity = input(\"Quantity of that Products: \")\n",
    "total = input(\"Total amount of the Grocery: \")\n",
    "\n",
    "details(name,phone,Productnames,price,quantity,total)"
   ]
  }
 ],
 "metadata": {
  "kernelspec": {
   "display_name": "Python 3",
   "language": "python",
   "name": "python3"
  },
  "language_info": {
   "codemirror_mode": {
    "name": "ipython",
    "version": 3
   },
   "file_extension": ".py",
   "mimetype": "text/x-python",
   "name": "python",
   "nbconvert_exporter": "python",
   "pygments_lexer": "ipython3",
   "version": "3.7.0"
  },
  "orig_nbformat": 4
 },
 "nbformat": 4,
 "nbformat_minor": 2
}
