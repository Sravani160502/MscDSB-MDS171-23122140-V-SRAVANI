{
 "cells": [
  {
   "cell_type": "code",
   "execution_count": 1,
   "metadata": {},
   "outputs": [
    {
     "name": "stdout",
     "output_type": "stream",
     "text": [
      "Total Number of Vowels in this String =  2\n",
      "\n",
      "'a' occurs  1\n",
      "'e' occurs  0\n",
      "'i' occurs  1\n",
      "'o' occurs  0\n",
      "'u' occurs  0\n",
      "66.66666666666666\n"
     ]
    }
   ],
   "source": [
    "str = input(\"enter the String : \")\n",
    "vowels = 0\n",
    " \n",
    "for i in str:\n",
    "    if(i == 'a' or i == 'e' or i == 'i' or i == 'o' or i == 'u' or i == 'A'\n",
    "       or i == 'E' or i == 'I' or i == 'O' or i == 'U'):\n",
    "        vowels = vowels + 1\n",
    " \n",
    "print(\"Total Number of Vowels in this String = \", vowels)\n",
    "vowela = ['a', 'A']\n",
    "vowele = ['e', 'E']\n",
    "voweli = ['i', 'I']\n",
    "vowelo = ['o', 'O']\n",
    "vowelu = ['u', 'U']\n",
    "counta = 0\n",
    "counte = 0\n",
    "counti = 0\n",
    "counto = 0\n",
    "countu = 0\n",
    "\n",
    "for i in str:\n",
    "    if i in vowela:\n",
    "        counta = counta+1\n",
    "    elif i in vowele:\n",
    "        counte = counte+1\n",
    "    elif i in voweli:\n",
    "        counti = counti+1\n",
    "    elif i in vowelo:\n",
    "        counto = counto+1\n",
    "    elif i in vowelu:\n",
    "        countu = countu+1\n",
    "\n",
    "print(\"\\n'a' occurs \", counta)\n",
    "print(\"'e' occurs \", counte)\n",
    "print(\"'i' occurs \", counti)\n",
    "print(\"'o' occurs \", counto)\n",
    "print(\"'u' occurs \", countu)\n",
    "t=counta+counte+counti+counto+countu\n",
    "n=len(str)\n",
    "prcnt=(t/n)*100\n",
    "print(prcnt)"
   ]
  }
 ],
 "metadata": {
  "kernelspec": {
   "display_name": "Python 3",
   "language": "python",
   "name": "python3"
  },
  "language_info": {
   "codemirror_mode": {
    "name": "ipython",
    "version": 3
   },
   "file_extension": ".py",
   "mimetype": "text/x-python",
   "name": "python",
   "nbconvert_exporter": "python",
   "pygments_lexer": "ipython3",
   "version": "3.7.0"
  },
  "orig_nbformat": 4
 },
 "nbformat": 4,
 "nbformat_minor": 2
}
