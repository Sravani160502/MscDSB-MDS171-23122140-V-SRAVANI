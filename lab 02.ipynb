{
 "cells": [
  {
   "cell_type": "code",
   "execution_count": 7,
   "metadata": {},
   "outputs": [
    {
     "name": "stdout",
     "output_type": "stream",
     "text": [
      "Number in words: five five\n"
     ]
    }
   ],
   "source": [
    "def digit_to_word(digit):\n",
    "    words = [\"zero\", \"one\", \"two\", \"three\", \"four\", \n",
    "        \"five\", \"six\", \"seven\", \"eight\", \"nine\"]\n",
    "    return words[digit]\n",
    "\n",
    "def convert_number_to_words(number):\n",
    "    if number == 0:\n",
    "        return \"zero\"\n",
    "\n",
    "    words = []\n",
    "    while number > 0:\n",
    "        digit = number % 10\n",
    "        word = digit_to_word(digit)\n",
    "        words.append(word)\n",
    "        number //= 10\n",
    "\n",
    "    words.reverse()\n",
    "    return ' '.join(words)\n",
    "\n",
    "num = int(input(\"Enter a number: \"))\n",
    "\n",
    "word_representation = convert_number_to_words(num)\n",
    "print(\"Number in words:\", word_representation)\n"
   ]
  }
 ],
 "metadata": {
  "language_info": {
   "name": "python"
  },
  "orig_nbformat": 4
 },
 "nbformat": 4,
 "nbformat_minor": 2
}
