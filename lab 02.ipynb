{
 "cells": [
  {
   "cell_type": "code",
   "execution_count": 3,
   "metadata": {},
   "outputs": [
    {
     "name": "stdout",
     "output_type": "stream",
     "text": [
      "Number in words: four four\n"
     ]
    }
   ],
   "source": [
    "def digit_to_word(digit):\n",
    "    words = [\"zero\", \"one\", \"two\", \"three\", \"four\", \n",
    "        \"five\", \"six\", \"seven\", \"eight\", \"nine\"]\n",
    "    return words[digit]\n",
    "\n",
    "def convert_number_to_words(number):\n",
    "    if number == 0:\n",
    "        return \"zero\"\n",
    "\n",
    "    words = []\n",
    "    while number > 0:\n",
    "        digit = number % 10\n",
    "        word = digit_to_word(digit)\n",
    "        words.append(word)\n",
    "        number //= 10\n",
    "\n",
    "    words.reverse()\n",
    "    return ' '.join(words)\n",
    "\n",
    "num = int(input(\"Enter a number: \"))\n",
    "\n",
    "word_representation = convert_number_to_words(num)\n",
    "print(\"Number in words:\", word_representation)"
   ]
  }
 ],
 "metadata": {
  "kernelspec": {
   "display_name": "Python 3",
   "language": "python",
   "name": "python3"
  },
  "language_info": {
   "codemirror_mode": {
    "name": "ipython",
    "version": 3
   },
   "file_extension": ".py",
   "mimetype": "text/x-python",
   "name": "python",
   "nbconvert_exporter": "python",
   "pygments_lexer": "ipython3",
   "version": "3.7.0"
  },
  "orig_nbformat": 4
 },
 "nbformat": 4,
 "nbformat_minor": 2
}
